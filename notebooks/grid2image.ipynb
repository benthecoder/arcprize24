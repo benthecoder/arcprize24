{
 "cells": [
  {
   "cell_type": "code",
   "execution_count": 11,
   "metadata": {},
   "outputs": [
    {
     "name": "stderr",
     "output_type": "stream",
     "text": [
      "INFO:root:Loaded 400 lines of train data\n",
      "INFO:root:Loaded 400 lines of train_solutions data\n",
      "INFO:root:Loaded 400 lines of eval data\n",
      "INFO:root:Loaded 400 lines of eval_soultions data\n",
      "INFO:root:Loaded 100 lines of test data\n",
      "INFO:root:Loaded 100 lines of sample_sub data\n"
     ]
    }
   ],
   "source": [
    "from arcprize.helpers import load_data\n",
    "from arcprize.render import show_grid, RenderArgs\n",
    "import numpy as np\n",
    "\n",
    "# Load the data\n",
    "data = load_data()\n",
    "\n",
    "# Select a sample challenge (e.g., the first one)\n",
    "sample_key = list(data[\"test\"].keys())[10]\n",
    "sample_challenge = data[\"test\"][sample_key]\n",
    "\n",
    "# Get the input grid of the sample challenge\n",
    "input_grid = np.array(sample_challenge[\"train\"][0][\"input\"])\n",
    "output_grid = np.array(sample_challenge[\"train\"][0][\"output\"])"
   ]
  },
  {
   "cell_type": "code",
   "execution_count": 12,
   "metadata": {},
   "outputs": [],
   "source": [
    "# Render the input grid\n",
    "render_args = RenderArgs(cell_size=20)\n",
    "show_grid(input_grid, render_args=render_args)\n",
    "show_grid(output_grid, render_args=render_args)"
   ]
  },
  {
   "cell_type": "code",
   "execution_count": null,
   "metadata": {},
   "outputs": [],
   "source": []
  }
 ],
 "metadata": {
  "kernelspec": {
   "display_name": "base",
   "language": "python",
   "name": "python3"
  },
  "language_info": {
   "codemirror_mode": {
    "name": "ipython",
    "version": 3
   },
   "file_extension": ".py",
   "mimetype": "text/x-python",
   "name": "python",
   "nbconvert_exporter": "python",
   "pygments_lexer": "ipython3",
   "version": "3.12.4"
  }
 },
 "nbformat": 4,
 "nbformat_minor": 2
}
