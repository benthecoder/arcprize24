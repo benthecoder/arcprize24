{
 "cells": [
  {
   "cell_type": "code",
   "execution_count": 11,
   "metadata": {},
   "outputs": [
    {
     "name": "stdout",
     "output_type": "stream",
     "text": [
      "['/opt/homebrew/Cellar/python@3.12/3.12.4/Frameworks/Python.framework/Versions/3.12/lib/python312.zip', '/opt/homebrew/Cellar/python@3.12/3.12.4/Frameworks/Python.framework/Versions/3.12/lib/python3.12', '/opt/homebrew/Cellar/python@3.12/3.12.4/Frameworks/Python.framework/Versions/3.12/lib/python3.12/lib-dynload', '', '/Users/benedictneo/Library/Caches/pypoetry/virtualenvs/arcprize-a904CK28-py3.12/lib/python3.12/site-packages', '/Users/benedictneo/arcprize', '/Users/benedictneo/arcprize', '/Users/benedictneo/arcprize']\n"
     ]
    }
   ],
   "source": [
    "import sys\n",
    "sys.path.append('/Users/benedictneo/arcprize')\n",
    "print(sys.path)"
   ]
  },
  {
   "cell_type": "code",
   "execution_count": 12,
   "metadata": {},
   "outputs": [
    {
     "name": "stderr",
     "output_type": "stream",
     "text": [
      "INFO:root:Loaded 400 lines of train data\n",
      "INFO:root:Loaded 400 lines of train_solutions data\n",
      "INFO:root:Loaded 400 lines of eval data\n",
      "INFO:root:Loaded 400 lines of eval_soultions data\n",
      "INFO:root:Loaded 100 lines of test data\n",
      "INFO:root:Loaded 100 lines of sample_sub data\n"
     ]
    }
   ],
   "source": [
    "from arcprize.helpers import load_data\n",
    "\n",
    "data = load_data()"
   ]
  },
  {
   "cell_type": "code",
   "execution_count": 13,
   "metadata": {},
   "outputs": [
    {
     "name": "stdout",
     "output_type": "stream",
     "text": [
      "1166\n"
     ]
    }
   ],
   "source": [
    "from arcprize.helpers import generate_user_prompt, count_string_tokens\n",
    "from arcprize.config import MODEL\n",
    "import json\n",
    "\n",
    "task = '760b3cac'\n",
    "sample = data['train'][task]\n",
    "print(count_string_tokens(json.dumps(sample), MODEL))"
   ]
  },
  {
   "cell_type": "code",
   "execution_count": 14,
   "metadata": {},
   "outputs": [
    {
     "data": {
      "text/plain": [
       "{'test': [{'input': [[0, 0, 0, 8, 0, 8, 0, 0, 0],\n",
       "    [0, 0, 0, 0, 8, 8, 0, 0, 0],\n",
       "    [0, 0, 0, 8, 0, 0, 0, 0, 0],\n",
       "    [0, 0, 0, 0, 0, 4, 0, 0, 0],\n",
       "    [0, 0, 0, 4, 4, 4, 0, 0, 0],\n",
       "    [0, 0, 0, 0, 4, 0, 0, 0, 0]]}],\n",
       " 'train': [{'input': [[0, 0, 0, 8, 0, 8, 0, 0, 0],\n",
       "    [0, 0, 0, 0, 8, 8, 0, 0, 0],\n",
       "    [0, 0, 0, 0, 0, 8, 0, 0, 0],\n",
       "    [0, 0, 0, 4, 0, 0, 0, 0, 0],\n",
       "    [0, 0, 0, 4, 4, 4, 0, 0, 0],\n",
       "    [0, 0, 0, 0, 4, 0, 0, 0, 0]],\n",
       "   'output': [[8, 0, 8, 8, 0, 8, 0, 0, 0],\n",
       "    [8, 8, 0, 0, 8, 8, 0, 0, 0],\n",
       "    [8, 0, 0, 0, 0, 8, 0, 0, 0],\n",
       "    [0, 0, 0, 4, 0, 0, 0, 0, 0],\n",
       "    [0, 0, 0, 4, 4, 4, 0, 0, 0],\n",
       "    [0, 0, 0, 0, 4, 0, 0, 0, 0]]},\n",
       "  {'input': [[0, 0, 0, 8, 0, 8, 0, 0, 0],\n",
       "    [0, 0, 0, 8, 8, 8, 0, 0, 0],\n",
       "    [0, 0, 0, 8, 8, 0, 0, 0, 0],\n",
       "    [0, 0, 0, 0, 0, 4, 0, 0, 0],\n",
       "    [0, 0, 0, 4, 4, 4, 0, 0, 0],\n",
       "    [0, 0, 0, 0, 4, 0, 0, 0, 0]],\n",
       "   'output': [[0, 0, 0, 8, 0, 8, 8, 0, 8],\n",
       "    [0, 0, 0, 8, 8, 8, 8, 8, 8],\n",
       "    [0, 0, 0, 8, 8, 0, 0, 8, 8],\n",
       "    [0, 0, 0, 0, 0, 4, 0, 0, 0],\n",
       "    [0, 0, 0, 4, 4, 4, 0, 0, 0],\n",
       "    [0, 0, 0, 0, 4, 0, 0, 0, 0]]},\n",
       "  {'input': [[0, 0, 0, 8, 0, 0, 0, 0, 0],\n",
       "    [0, 0, 0, 0, 8, 8, 0, 0, 0],\n",
       "    [0, 0, 0, 8, 0, 0, 0, 0, 0],\n",
       "    [0, 0, 0, 4, 0, 0, 0, 0, 0],\n",
       "    [0, 0, 0, 4, 4, 4, 0, 0, 0],\n",
       "    [0, 0, 0, 0, 4, 0, 0, 0, 0]],\n",
       "   'output': [[0, 0, 8, 8, 0, 0, 0, 0, 0],\n",
       "    [8, 8, 0, 0, 8, 8, 0, 0, 0],\n",
       "    [0, 0, 8, 8, 0, 0, 0, 0, 0],\n",
       "    [0, 0, 0, 4, 0, 0, 0, 0, 0],\n",
       "    [0, 0, 0, 4, 4, 4, 0, 0, 0],\n",
       "    [0, 0, 0, 0, 4, 0, 0, 0, 0]]}]}"
      ]
     },
     "execution_count": 14,
     "metadata": {},
     "output_type": "execute_result"
    }
   ],
   "source": [
    "sample"
   ]
  },
  {
   "cell_type": "code",
   "execution_count": 15,
   "metadata": {},
   "outputs": [
    {
     "name": "stdout",
     "output_type": "stream",
     "text": [
      "Training Examples\n",
      "Example 1: Input\n",
      "[\n",
      "[0, 0, 0, 8, 0, 8, 0, 0, 0],\n",
      "[0, 0, 0, 0, 8, 8, 0, 0, 0],\n",
      "[0, 0, 0, 0, 0, 8, 0, 0, 0],\n",
      "[0, 0, 0, 4, 0, 0, 0, 0, 0],\n",
      "[0, 0, 0, 4, 4, 4, 0, 0, 0],\n",
      "[0, 0, 0, 0, 4, 0, 0, 0, 0],]\n",
      "\n",
      "Example 1: Output\n",
      "[\n",
      "[8, 0, 8, 8, 0, 8, 0, 0, 0],\n",
      "[8, 8, 0, 0, 8, 8, 0, 0, 0],\n",
      "[8, 0, 0, 0, 0, 8, 0, 0, 0],\n",
      "[0, 0, 0, 4, 0, 0, 0, 0, 0],\n",
      "[0, 0, 0, 4, 4, 4, 0, 0, 0],\n",
      "[0, 0, 0, 0, 4, 0, 0, 0, 0],]\n",
      "\n",
      "Example 2: Input\n",
      "[\n",
      "[0, 0, 0, 8, 0, 8, 0, 0, 0],\n",
      "[0, 0, 0, 8, 8, 8, 0, 0, 0],\n",
      "[0, 0, 0, 8, 8, 0, 0, 0, 0],\n",
      "[0, 0, 0, 0, 0, 4, 0, 0, 0],\n",
      "[0, 0, 0, 4, 4, 4, 0, 0, 0],\n",
      "[0, 0, 0, 0, 4, 0, 0, 0, 0],]\n",
      "\n",
      "Example 2: Output\n",
      "[\n",
      "[0, 0, 0, 8, 0, 8, 8, 0, 8],\n",
      "[0, 0, 0, 8, 8, 8, 8, 8, 8],\n",
      "[0, 0, 0, 8, 8, 0, 0, 8, 8],\n",
      "[0, 0, 0, 0, 0, 4, 0, 0, 0],\n",
      "[0, 0, 0, 4, 4, 4, 0, 0, 0],\n",
      "[0, 0, 0, 0, 4, 0, 0, 0, 0],]\n",
      "\n",
      "Example 3: Input\n",
      "[\n",
      "[0, 0, 0, 8, 0, 0, 0, 0, 0],\n",
      "[0, 0, 0, 0, 8, 8, 0, 0, 0],\n",
      "[0, 0, 0, 8, 0, 0, 0, 0, 0],\n",
      "[0, 0, 0, 4, 0, 0, 0, 0, 0],\n",
      "[0, 0, 0, 4, 4, 4, 0, 0, 0],\n",
      "[0, 0, 0, 0, 4, 0, 0, 0, 0],]\n",
      "\n",
      "Example 3: Output\n",
      "[\n",
      "[0, 0, 8, 8, 0, 0, 0, 0, 0],\n",
      "[8, 8, 0, 0, 8, 8, 0, 0, 0],\n",
      "[0, 0, 8, 8, 0, 0, 0, 0, 0],\n",
      "[0, 0, 0, 4, 0, 0, 0, 0, 0],\n",
      "[0, 0, 0, 4, 4, 4, 0, 0, 0],\n",
      "[0, 0, 0, 0, 4, 0, 0, 0, 0],]\n",
      "\n",
      "Test\n",
      "[\n",
      "[0, 0, 0, 8, 0, 8, 0, 0, 0]\n",
      "[0, 0, 0, 0, 8, 8, 0, 0, 0]\n",
      "[0, 0, 0, 8, 0, 0, 0, 0, 0]\n",
      "[0, 0, 0, 0, 0, 4, 0, 0, 0]\n",
      "[0, 0, 0, 4, 4, 4, 0, 0, 0]\n",
      "[0, 0, 0, 0, 4, 0, 0, 0, 0]]\n"
     ]
    },
    {
     "data": {
      "text/plain": [
       "1188"
      ]
     },
     "execution_count": 15,
     "metadata": {},
     "output_type": "execute_result"
    }
   ],
   "source": [
    "from arcprize.helpers import json_task_to_string\n",
    "\n",
    "print(json_task_to_string(sample))\n",
    "count_string_tokens(json_task_to_string(sample), MODEL)"
   ]
  },
  {
   "cell_type": "code",
   "execution_count": null,
   "metadata": {},
   "outputs": [],
   "source": []
  }
 ],
 "metadata": {
  "kernelspec": {
   "display_name": "base",
   "language": "python",
   "name": "python3"
  },
  "language_info": {
   "codemirror_mode": {
    "name": "ipython",
    "version": 3
   },
   "file_extension": ".py",
   "mimetype": "text/x-python",
   "name": "python",
   "nbconvert_exporter": "python",
   "pygments_lexer": "ipython3",
   "version": "3.12.4"
  }
 },
 "nbformat": 4,
 "nbformat_minor": 2
}
